{
 "cells": [
  {
   "cell_type": "code",
   "execution_count": 1,
   "metadata": {},
   "outputs": [],
   "source": [
    "# function to convert temprature into different units\n",
    "\n",
    "def tempConversion(temp, unit):\n",
    "    if unit == 'C':\n",
    "        return (temp*9/5) + 32\n",
    "    elif unit == 'F':\n",
    "        return (temp - 32)*5/9\n",
    "    else:\n",
    "        return None"
   ]
  },
  {
   "cell_type": "code",
   "execution_count": 4,
   "metadata": {},
   "outputs": [
    {
     "name": "stdout",
     "output_type": "stream",
     "text": [
      "84.2\n"
     ]
    },
    {
     "data": {
      "text/plain": [
       "25.0"
      ]
     },
     "execution_count": 4,
     "metadata": {},
     "output_type": "execute_result"
    }
   ],
   "source": [
    "print(tempConversion(29,'C'))\n",
    "tempConversion(77,'F')"
   ]
  },
  {
   "cell_type": "code",
   "execution_count": 8,
   "metadata": {},
   "outputs": [],
   "source": [
    "## function to check password strength\n",
    "\n",
    "def passwordStrength(password):\n",
    "\n",
    "    if(len(password) < 8):\n",
    "        return False\n",
    "    elif not any(char.isupper() for char in password):\n",
    "        return False\n",
    "    elif not any(char.isdigit() for char in password):\n",
    "        return False\n",
    "    elif not any(char.islower() for char in password):\n",
    "        return False\n",
    "    elif not any(char in '!@#$%^&*()_+=[]|' for char in password):\n",
    "        return False\n",
    "    else:\n",
    "        return True"
   ]
  },
  {
   "cell_type": "code",
   "execution_count": 9,
   "metadata": {},
   "outputs": [
    {
     "name": "stdout",
     "output_type": "stream",
     "text": [
      "True\n"
     ]
    },
    {
     "data": {
      "text/plain": [
       "False"
      ]
     },
     "execution_count": 9,
     "metadata": {},
     "output_type": "execute_result"
    }
   ],
   "source": [
    "print(passwordStrength('Str0ngPwd!'))\n",
    "passwordStrength('WeakPwd')"
   ]
  },
  {
   "cell_type": "code",
   "execution_count": null,
   "metadata": {},
   "outputs": [],
   "source": [
    "# Total Cost of Items in Shopping Cart\n",
    "\n",
    "def shoppingCartTotal(cart):\n",
    "    \"\"\"Function to calculate total cost of items in a shopping cart\"\"\"\n",
    "    totalCost = 0\n",
    "    for item in cart:\n",
    "        totalCost += item['price']*item['quantity']\n",
    "    return totalCost"
   ]
  },
  {
   "cell_type": "code",
   "execution_count": 12,
   "metadata": {},
   "outputs": [
    {
     "data": {
      "text/plain": [
       "5.8999999999999995"
      ]
     },
     "execution_count": 12,
     "metadata": {},
     "output_type": "execute_result"
    }
   ],
   "source": [
    "cart=[\n",
    "    {'name':'Apple','price':0.5,'quantity':4},\n",
    "    {'name':'Banana','price':0.3,'quantity':6},\n",
    "    {'name':'Orange','price':0.7,'quantity':3}\n",
    "\n",
    "]\n",
    "\n",
    "shoppingCartTotal(cart)"
   ]
  },
  {
   "cell_type": "code",
   "execution_count": null,
   "metadata": {},
   "outputs": [],
   "source": [
    "# Check if palindrome\n",
    "\n",
    "def isPalindrome(palindrome):\n",
    "    \"\"\"Function to check if string is palindrome or not\"\"\"\n",
    "    if type(palindrome) != str:\n",
    "        return 'Not a string'\n",
    "\n",
    "    palindrome = palindrome.lower().replace(' ','')\n",
    "\n",
    "    if palindrome == palindrome[::-1]:\n",
    "        return True\n",
    "    else:\n",
    "        return False"
   ]
  },
  {
   "cell_type": "code",
   "execution_count": 14,
   "metadata": {},
   "outputs": [
    {
     "name": "stdout",
     "output_type": "stream",
     "text": [
      "True\n",
      "False\n"
     ]
    },
    {
     "data": {
      "text/plain": [
       "'Not a string'"
      ]
     },
     "execution_count": 14,
     "metadata": {},
     "output_type": "execute_result"
    }
   ],
   "source": [
    "print(isPalindrome(\"A man a plan a canal Panama\"))\n",
    "print(isPalindrome('Hello'))\n",
    "isPalindrome(124)"
   ]
  },
  {
   "cell_type": "code",
   "execution_count": 21,
   "metadata": {},
   "outputs": [],
   "source": [
    "# factorial of a number using recursion\n",
    "\n",
    "def factorial(num):\n",
    "    if num == 1:\n",
    "        return 1\n",
    "    else:\n",
    "        return num*factorial(num-1)"
   ]
  },
  {
   "cell_type": "code",
   "execution_count": 23,
   "metadata": {},
   "outputs": [
    {
     "name": "stdout",
     "output_type": "stream",
     "text": [
      "3628800\n",
      "120\n"
     ]
    }
   ],
   "source": [
    "print(factorial(10))\n",
    "print(factorial(5))"
   ]
  },
  {
   "cell_type": "code",
   "execution_count": 28,
   "metadata": {},
   "outputs": [],
   "source": [
    "# function to read file and count frequency of distinct words in it\n",
    "\n",
    "def wordCountFrequency(filePath):\n",
    "    wordCount = {}\n",
    "    with open(filePath, 'r') as file:\n",
    "        for line in file:\n",
    "            words = line.split()\n",
    "            for word in words:\n",
    "                word = word.lower().strip('.!?,:;\"\\'')\n",
    "                wordCount[word] = wordCount.get(word, 0)+1\n",
    "\n",
    "    return wordCount\n",
    "            "
   ]
  },
  {
   "cell_type": "code",
   "execution_count": 29,
   "metadata": {},
   "outputs": [
    {
     "data": {
      "text/plain": [
       "{'hi': 1,\n",
       " 'my': 2,\n",
       " 'name': 1,\n",
       " 'is': 1,\n",
       " 'bhaag': 2,\n",
       " 'milkha': 1,\n",
       " 'singh': 1,\n",
       " 'i': 4,\n",
       " 'am': 1,\n",
       " 'the': 2,\n",
       " 'shit': 1,\n",
       " 'but': 2,\n",
       " 'got': 1,\n",
       " 'trauma': 1,\n",
       " 'so': 1,\n",
       " 'always': 1,\n",
       " 'keep': 1,\n",
       " 'looking': 1,\n",
       " 'at': 1,\n",
       " 'back': 1,\n",
       " 'still': 1,\n",
       " 'win': 1,\n",
       " 'a': 2,\n",
       " 'lot': 1,\n",
       " 'of': 1,\n",
       " 'stuff': 1,\n",
       " 'dont': 1,\n",
       " 'be': 2,\n",
       " 'loser': 1,\n",
       " 'like': 1,\n",
       " 'me': 1,\n",
       " 'achieve': 1,\n",
       " 'things': 1,\n",
       " 'despite': 1,\n",
       " 'baggage': 1,\n",
       " 'get': 1,\n",
       " 'tougher': 1,\n",
       " 'and': 2,\n",
       " 'stronger': 1,\n",
       " 'mentally': 1,\n",
       " 'real': 1,\n",
       " 'battle': 1,\n",
       " 'start': 1,\n",
       " 'between': 1,\n",
       " 'your': 1,\n",
       " 'ear': 1,\n",
       " 'ends': 1,\n",
       " 'there': 1,\n",
       " 'rest': 1,\n",
       " 'just': 1,\n",
       " 'follows': 1}"
      ]
     },
     "execution_count": 29,
     "metadata": {},
     "output_type": "execute_result"
    }
   ],
   "source": [
    "filePath = 'sample.txt'\n",
    "wordCountFrequency(filePath)"
   ]
  },
  {
   "cell_type": "code",
   "execution_count": null,
   "metadata": {},
   "outputs": [],
   "source": []
  }
 ],
 "metadata": {
  "kernelspec": {
   "display_name": "Python 3",
   "language": "python",
   "name": "python3"
  },
  "language_info": {
   "codemirror_mode": {
    "name": "ipython",
    "version": 3
   },
   "file_extension": ".py",
   "mimetype": "text/x-python",
   "name": "python",
   "nbconvert_exporter": "python",
   "pygments_lexer": "ipython3",
   "version": "3.12.7"
  }
 },
 "nbformat": 4,
 "nbformat_minor": 2
}
